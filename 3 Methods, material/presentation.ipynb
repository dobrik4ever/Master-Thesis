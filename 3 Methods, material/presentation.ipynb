{
 "cells": [
  {
   "cell_type": "code",
   "execution_count": 1,
   "metadata": {},
   "outputs": [],
   "source": [
    "import numpy as np\n",
    "import napari\n",
    "from src import *\n",
    "import opensimplex"
   ]
  },
  {
   "cell_type": "code",
   "execution_count": 2,
   "metadata": {},
   "outputs": [
    {
     "name": "stdout",
     "output_type": "stream",
     "text": [
      "Assistant skips harvesting tools menu as it's not installed.\n"
     ]
    }
   ],
   "source": [
    "viewer = napari.Viewer()"
   ]
  },
  {
   "cell_type": "code",
   "execution_count": 4,
   "metadata": {},
   "outputs": [
    {
     "name": "stdout",
     "output_type": "stream",
     "text": [
      "Making sphere\n"
     ]
    },
    {
     "data": {
      "text/plain": [
       "<Image layer 'Image' at 0x7fb289cb7390>"
      ]
     },
     "execution_count": 4,
     "metadata": {},
     "output_type": "execute_result"
    },
    {
     "name": "stderr",
     "output_type": "stream",
     "text": [
      "INFO:OpenGL.acceleratesupport:No OpenGL_accelerate module loaded: No module named 'OpenGL_accelerate'\n"
     ]
    }
   ],
   "source": [
    "s = 3\n",
    "dx = dy = dz = 0.1\n",
    "np.random.seed(s)\n",
    "\n",
    "cell = Macrophage(dx, dy, dz)\n",
    "# cell.circ_cytoplasm = 1000\n",
    "print('Making sphere')\n",
    "cell.run()\n",
    "viewer.add_image(cell.image)\n",
    "# sphere = cell.mask_cytoplasm\n",
    "\n",
    "# np.random.seed(s)\n",
    "# cell = Macrophage(dx, dy, dz)\n",
    "# cell.circ_cytoplasm = .2\n",
    "# print('Making noise')\n",
    "# cell.run()\n",
    "# noise = cell.mask_cytoplasm\n",
    "\n",
    "# np.random.seed(s)\n",
    "# cell = Macrophage(dx, dy, dz)\n",
    "# print('Making norm')\n",
    "# cell.run()\n",
    "# result_mask = cell.mask_cytoplasm\n",
    "# result_image = cell.image\n",
    "\n"
   ]
  },
  {
   "cell_type": "code",
   "execution_count": 4,
   "metadata": {},
   "outputs": [
    {
     "data": {
      "text/plain": [
       "<Image layer 'result_image' at 0x7fe85f3d4a10>"
      ]
     },
     "execution_count": 4,
     "metadata": {},
     "output_type": "execute_result"
    },
    {
     "name": "stderr",
     "output_type": "stream",
     "text": [
      "INFO:OpenGL.acceleratesupport:No OpenGL_accelerate module loaded: No module named 'OpenGL_accelerate'\n",
      "WARNING: Program has unset variables: {'u_threshold'}\n",
      "WARNING:vispy:Program has unset variables: {'u_threshold'}\n",
      "WARNING: Program has unset variables: {'u_threshold'}\n",
      "WARNING:vispy:Program has unset variables: {'u_threshold'}\n",
      "WARNING: Program has unset variables: {'u_threshold'}\n",
      "WARNING:vispy:Program has unset variables: {'u_threshold'}\n"
     ]
    }
   ],
   "source": [
    "for img in [sphere, noise, result_mask]:\n",
    "    viewer.add_image(   img,\n",
    "                        colormap='gray',\n",
    "                        rendering='iso')\n",
    "\n",
    "viewer.add_image(   result_image,\n",
    "                    colormap='gray',\n",
    "                    rendering='average')"
   ]
  },
  {
   "cell_type": "code",
   "execution_count": 15,
   "metadata": {},
   "outputs": [
    {
     "data": {
      "text/plain": [
       "{'scale_factor': 409.53828317368465,\n",
       " 'center': (74.5, 74.5, 74.5),\n",
       " 'fov': 0.0,\n",
       " '_quaternion': <Quaternion object -0.303 + -0.638i + -0.708j + -0.0167k>}"
      ]
     },
     "execution_count": 15,
     "metadata": {},
     "output_type": "execute_result"
    }
   ],
   "source": [
    "state = viewer.window.qt_viewer.view.camera.get_state()\n"
   ]
  },
  {
   "cell_type": "code",
   "execution_count": 257,
   "metadata": {},
   "outputs": [
    {
     "name": "stdout",
     "output_type": "stream",
     "text": [
      "[0.   0.25 0.5  0.75 1.  ]\n"
     ]
    }
   ],
   "source": [
    "viewer.layers.clear()\n",
    "gammas = np.linspace(0,1,5)\n",
    "np.random.seed(0)\n",
    "X = np.random.random([10])\n",
    "Y = np.random.random([10])\n",
    "Z = np.random.random([10])\n",
    "B = None\n",
    "C = np.zeros([100,100,100])\n",
    "for gamma in gammas:\n",
    "    A = np.zeros([100,100,100])\n",
    "    for i in range(5):\n",
    "        gamma = 0.5\n",
    "        y = z = x = np.linspace(0,1+i*5,100)\n",
    "        x += X[i]\n",
    "        y += Y[i]\n",
    "        z += Z[i]\n",
    "        simplex = opensimplex.noise3array(x, y, z)\n",
    "        A = simplex\n",
    "        C += A * np.exp(-i*gamma)\n",
    "        if type(B) != np.ndarray:\n",
    "            B = np.copy(A)\n",
    "        else:\n",
    "            B = np.concatenate([A,B], axis=2)\n",
    "\n",
    "    # viewer.add_image(B, name = str(gamma), rendering = 'translucent', blending='opaque', interpolation = 'nearest', colormap='twilight_shifted')\n",
    "    break\n",
    "\n",
    "    # A -= A.min()\n",
    "    # A /= A.max()\n",
    "    # if type(B) != np.ndarray:\n",
    "    #     B = np.copy(A)\n",
    "    # else:\n",
    "    #     B = np.concatenate([A,B], axis=2)\n",
    "    # viewer.add_image(A, name = str(gamma), rendering = 'translucent', blending='opaque', interpolation = 'nearest')\n",
    "# viewer.reset_view()\n",
    "# viewer.add_image(randomn)\n",
    "viewer.add_image(B, name = 'B', rendering = 'translucent', blending='opaque', interpolation = 'nearest', colormap='twilight_shifted')\n",
    "viewer.add_image(C, name = 'C', rendering = 'translucent', blending='opaque', interpolation = 'nearest', colormap='twilight_shifted')\n",
    "\n",
    "print(gammas)"
   ]
  },
  {
   "cell_type": "code",
   "execution_count": 227,
   "metadata": {},
   "outputs": [
    {
     "name": "stdout",
     "output_type": "stream",
     "text": [
      "[1.  1.5 2.  2.5 3. ]\n"
     ]
    }
   ],
   "source": [
    "\n"
   ]
  },
  {
   "cell_type": "code",
   "execution_count": 211,
   "metadata": {},
   "outputs": [
    {
     "data": {
      "text/plain": [
       "<matplotlib.image.AxesImage at 0x7feb1ed37f50>"
      ]
     },
     "execution_count": 211,
     "metadata": {},
     "output_type": "execute_result"
    },
    {
     "data": {
      "image/png": "[encoded data removed]",
      "text/plain": [
       "<Figure size 432x288 with 1 Axes>"
      ]
     },
     "metadata": {
      "needs_background": "light"
     },
     "output_type": "display_data"
    }
   ],
   "source": [
    "from matplotlib import pyplot as plt\n",
    "plt.imshow(B[0,:,:])"
   ]
  },
  {
   "cell_type": "code",
   "execution_count": null,
   "metadata": {},
   "outputs": [],
   "source": []
  }
 ],
 "metadata": {
  "kernelspec": {
   "display_name": "Python 3.7.13 ('sci')",
   "language": "python",
   "name": "python3"
  },
  "language_info": {
   "codemirror_mode": {
    "name": "ipython",
    "version": 3
   },
   "file_extension": ".py",
   "mimetype": "text/x-python",
   "name": "python",
   "nbconvert_exporter": "python",
   "pygments_lexer": "ipython3",
   "version": "3.7.13"
  },
  "orig_nbformat": 4,
  "vscode": {
   "interpreter": {
    "hash": "daec29ac986b9fc2404708d6a035c3e1f34ece608a3358e4ebc23c7bf2d63e76"
   }
  }
 },
 "nbformat": 4,
 "nbformat_minor": 2
}
