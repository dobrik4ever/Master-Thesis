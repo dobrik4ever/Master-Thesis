{
 "cells": [
  {
   "cell_type": "code",
   "execution_count": 1,
   "metadata": {},
   "outputs": [],
   "source": [
    "from skimage import io\n",
    "import os\n",
    "import numpy as np\n",
    "import pandas as pd\n",
    "import matplotlib.pyplot as plt"
   ]
  },
  {
   "cell_type": "code",
   "execution_count": 7,
   "metadata": {},
   "outputs": [
    {
     "name": "stdout",
     "output_type": "stream",
     "text": [
      "True\n",
      "MAP.shape = (20, 100, 10, 50, 10, 10)\n"
     ]
    }
   ],
   "source": [
    "# %load utils/Chunkerizer\n",
    "import chunk\n",
    "import numpy as np\n",
    "\n",
    "class Chunkizer:\n",
    "    \"\"\"Class for chunks generation. Required to fit in model a huge stack\n",
    "    chunk by chunk.\n",
    "    \"\"\"\n",
    "\n",
    "    def __init__(self, input_shape:tuple, chunk_shape:tuple, batch_size = 1):\n",
    "        \"\"\"Is used to disassemble and assemble back input stacks\n",
    "\n",
    "        Args:\n",
    "            input_shape (tuple): shape of stack, that must be divided\n",
    "            chunk_shape (tuple): shape of chunk, that must be generated.\n",
    "            batch_size (int): number of chunks to be fed in network\n",
    "            Note, input_shape / chunk_shape, must return int values. Otherwise\n",
    "            stack is truncated.\n",
    "        \"\"\"\n",
    "        self.input_shape = np.array(input_shape)\n",
    "        self.chunk_shape = np.array(chunk_shape)\n",
    "        self.batch_size = batch_size\n",
    "        self._check_shapes()\n",
    "\n",
    "    def _check_shapes(self):\n",
    "        condition_1 = np.any(self.input_shape % self.chunk_shape != 0)\n",
    "        if condition_1:\n",
    "            raise ValueError(f'Chunk shape, does not give round chunk number, {self.input_shape = }, {self.chunk_shape = }')\n",
    "\n",
    "    def divide(self, stack):\n",
    "        \"\"\"Method divide. Creates a map of chunks of shape [Y, X, Z, y, x, z]\n",
    "\n",
    "        Args:\n",
    "            stack (_type_): _description_\n",
    "        \"\"\"\n",
    "        if stack.shape != tuple(self.input_shape): raise ArithmeticError('Stack shape != input_shape!')\n",
    "        indices = self.input_shape // self.chunk_shape\n",
    "        MAP = np.zeros([*indices, *self.chunk_shape])\n",
    "        I, J, K = self.chunk_shape\n",
    "        for i in range(indices[0]):\n",
    "            for j in range(indices[1]):\n",
    "                for k in range(indices[2]):\n",
    "                    chunk = stack[\n",
    "                        i * I : (i + 1) * I,\n",
    "                        j * J : (j + 1) * J,\n",
    "                        k * K : (k + 1) * K\n",
    "                        ]\n",
    "                    MAP[i,j,k] = chunk\n",
    "\n",
    "        self.MAP = MAP\n",
    "        return MAP\n",
    "\n",
    "    def batch_feed(self, stack):\n",
    "        MAP = self.divide(stack)\n",
    "\n",
    "    \n",
    "    def assemble(self, MAP):\n",
    "        indices = self.input_shape // self.chunk_shape\n",
    "        I, J, K = self.chunk_shape\n",
    "        arr = np.zeros(self.input_shape)\n",
    "        for i in range(indices[0]):\n",
    "            for j in range(indices[1]):\n",
    "                for k in range(indices[2]):\n",
    "                    arr[\n",
    "                        i * I : (i + 1) * I,\n",
    "                        j * J : (j + 1) * J,\n",
    "                        k * K : (k + 1) * K\n",
    "                        ] = MAP[i,j,k]\n",
    "\n",
    "        self.arr = arr\n",
    "        return arr\n",
    "\n",
    "\n",
    "class Network:\n",
    "    def __init__(self) -> None:\n",
    "        pass\n",
    "\n",
    "    def forward(self, x):\n",
    "        return x\n",
    "\n",
    "# stack = np.zeros([100,100,10])\n",
    "\n",
    "stack = np.random.random([1000,1000,100])\n",
    "chunk_shape = [100,100,100]\n",
    "c = Chunkizer(stack.shape, chunk_shape)\n",
    "MAP = c.divide(stack)\n",
    "arr = c.assemble(MAP)\n",
    "print(np.all(stack == arr))\n",
    "print(f'{MAP.shape = }')\n",
    "# for s in stacks:\n",
    "#     print(s.shape)"
   ]
  },
  {
   "cell_type": "code",
   "execution_count": null,
   "metadata": {},
   "outputs": [],
   "source": [
    "img = np.load('data/raw/stack_0.npy')\n",
    "fig = plt.figure(figsize=(20,20))\n",
    "plt.imshow(img[:,:,50])"
   ]
  },
  {
   "cell_type": "code",
   "execution_count": 1,
   "metadata": {},
   "outputs": [
    {
     "data": {
      "text/plain": [
       "9"
      ]
     },
     "execution_count": 1,
     "metadata": {},
     "output_type": "execute_result"
    }
   ],
   "source": [
    "\n",
    "def get_max_file_number(path):\n",
    "    files = os.listdir(path)\n",
    "    if len(files) == 0:\n",
    "        return 'there are no files'\n",
    "    N = int(max(files).split('_')[1].split('.')[0])\n",
    "    return N\n",
    "\n",
    "get_max_file_number('data/raw/')\n"
   ]
  },
  {
   "cell_type": "code",
   "execution_count": 3,
   "metadata": {},
   "outputs": [
    {
     "data": {
      "text/plain": [
       "'c:\\\\Users\\\\sergei\\\\Documents\\\\Scripts\\\\Master-Thesis\\\\3 Methods, material'"
      ]
     },
     "execution_count": 3,
     "metadata": {},
     "output_type": "execute_result"
    }
   ],
   "source": [
    "class Data_divider:\n",
    "    def __init__(self):\n",
    "\n",
    "        \n",
    "def chunkizer(stack, chunk_number):\n",
    "    return chunks"
   ]
  },
  {
   "cell_type": "code",
   "execution_count": 4,
   "metadata": {},
   "outputs": [
    {
     "name": "stdout",
     "output_type": "stream",
     "text": [
      "(1000, 1000, 100)\n"
     ]
    },
    {
     "data": {
      "text/html": [
       "<div>\n",
       "<style scoped>\n",
       "    .dataframe tbody tr th:only-of-type {\n",
       "        vertical-align: middle;\n",
       "    }\n",
       "\n",
       "    .dataframe tbody tr th {\n",
       "        vertical-align: top;\n",
       "    }\n",
       "\n",
       "    .dataframe thead th {\n",
       "        text-align: right;\n",
       "    }\n",
       "</style>\n",
       "<table border=\"1\" class=\"dataframe\">\n",
       "  <thead>\n",
       "    <tr style=\"text-align: right;\">\n",
       "      <th></th>\n",
       "      <th>class</th>\n",
       "      <th>axis-0</th>\n",
       "      <th>axis-1</th>\n",
       "      <th>axis-2</th>\n",
       "    </tr>\n",
       "  </thead>\n",
       "  <tbody>\n",
       "    <tr>\n",
       "      <th>0</th>\n",
       "      <td>Macrophage</td>\n",
       "      <td>754</td>\n",
       "      <td>954</td>\n",
       "      <td>64</td>\n",
       "    </tr>\n",
       "    <tr>\n",
       "      <th>1</th>\n",
       "      <td>Macrophage</td>\n",
       "      <td>823</td>\n",
       "      <td>720</td>\n",
       "      <td>25</td>\n",
       "    </tr>\n",
       "    <tr>\n",
       "      <th>2</th>\n",
       "      <td>Macrophage</td>\n",
       "      <td>402</td>\n",
       "      <td>693</td>\n",
       "      <td>36</td>\n",
       "    </tr>\n",
       "    <tr>\n",
       "      <th>3</th>\n",
       "      <td>Macrophage</td>\n",
       "      <td>123</td>\n",
       "      <td>588</td>\n",
       "      <td>41</td>\n",
       "    </tr>\n",
       "    <tr>\n",
       "      <th>4</th>\n",
       "      <td>Macrophage</td>\n",
       "      <td>854</td>\n",
       "      <td>406</td>\n",
       "      <td>48</td>\n",
       "    </tr>\n",
       "    <tr>\n",
       "      <th>...</th>\n",
       "      <td>...</td>\n",
       "      <td>...</td>\n",
       "      <td>...</td>\n",
       "      <td>...</td>\n",
       "    </tr>\n",
       "    <tr>\n",
       "      <th>369</th>\n",
       "      <td>T_Cell</td>\n",
       "      <td>58</td>\n",
       "      <td>485</td>\n",
       "      <td>64</td>\n",
       "    </tr>\n",
       "    <tr>\n",
       "      <th>370</th>\n",
       "      <td>T_Cell</td>\n",
       "      <td>16</td>\n",
       "      <td>617</td>\n",
       "      <td>54</td>\n",
       "    </tr>\n",
       "    <tr>\n",
       "      <th>371</th>\n",
       "      <td>T_Cell</td>\n",
       "      <td>54</td>\n",
       "      <td>181</td>\n",
       "      <td>84</td>\n",
       "    </tr>\n",
       "    <tr>\n",
       "      <th>372</th>\n",
       "      <td>T_Cell</td>\n",
       "      <td>834</td>\n",
       "      <td>830</td>\n",
       "      <td>21</td>\n",
       "    </tr>\n",
       "    <tr>\n",
       "      <th>373</th>\n",
       "      <td>T_Cell</td>\n",
       "      <td>302</td>\n",
       "      <td>38</td>\n",
       "      <td>61</td>\n",
       "    </tr>\n",
       "  </tbody>\n",
       "</table>\n",
       "<p>374 rows × 4 columns</p>\n",
       "</div>"
      ],
      "text/plain": [
       "          class  axis-0  axis-1  axis-2\n",
       "0    Macrophage     754     954      64\n",
       "1    Macrophage     823     720      25\n",
       "2    Macrophage     402     693      36\n",
       "3    Macrophage     123     588      41\n",
       "4    Macrophage     854     406      48\n",
       "..          ...     ...     ...     ...\n",
       "369      T_Cell      58     485      64\n",
       "370      T_Cell      16     617      54\n",
       "371      T_Cell      54     181      84\n",
       "372      T_Cell     834     830      21\n",
       "373      T_Cell     302      38      61\n",
       "\n",
       "[374 rows x 4 columns]"
      ]
     },
     "execution_count": 4,
     "metadata": {},
     "output_type": "execute_result"
    }
   ],
   "source": [
    "image = np.load('data/raw/stack_0.npy')\n",
    "print(image.shape)\n",
    "df = pd.read_csv('data/raw/stack_0.csv', index_col=0)\n",
    "df"
   ]
  },
  {
   "cell_type": "code",
   "execution_count": 14,
   "metadata": {},
   "outputs": [
    {
     "name": "stdout",
     "output_type": "stream",
     "text": [
      "(1000, 1000, 100)\n"
     ]
    },
    {
     "data": {
      "text/plain": [
       "(400.0, 600.0)"
      ]
     },
     "execution_count": 14,
     "metadata": {},
     "output_type": "execute_result"
    },
    {
     "data": {
      "image/png": "[encoded data removed]",
      "text/plain": [
       "<Figure size 1440x1440 with 1 Axes>"
      ]
     },
     "metadata": {
      "needs_background": "light"
     },
     "output_type": "display_data"
    }
   ],
   "source": [
    "img = np.copy(image)\n",
    "mask = np.zeros_like(img)\n",
    "mask[y, x, z] = 1\n",
    "print(img.shape)\n",
    "fig = plt.figure(figsize=(20,20))\n",
    "i = 49\n",
    "plt.imshow(img[i], cmap='gray')\n",
    "plt.imshow(mask[i], cmap='viridis', alpha=0.5)\n",
    "y50 = df[df['axis-0'] == 49]\n",
    "y =  df['axis-0']\n",
    "x = y50['axis-1']\n",
    "z = y50['axis-2']\n",
    "plt.ylim([400,600])"
   ]
  },
  {
   "cell_type": "code",
   "execution_count": 21,
   "metadata": {},
   "outputs": [
    {
     "data": {
      "text/plain": [
       "array(['Macrophage', 'T_Cell'], dtype=object)"
      ]
     },
     "execution_count": 21,
     "metadata": {},
     "output_type": "execute_result"
    }
   ],
   "source": [
    "df['class'].unique()"
   ]
  },
  {
   "cell_type": "code",
   "execution_count": 11,
   "metadata": {},
   "outputs": [
    {
     "data": {
      "text/plain": [
       "(2, 10, 10, 10)"
      ]
     },
     "execution_count": 11,
     "metadata": {},
     "output_type": "execute_result"
    }
   ],
   "source": [
    "a = np.zeros([1,10,10,10])\n",
    "b = np.copy(a)\n",
    "np.vstack([a, b]).shape"
   ]
  },
  {
   "cell_type": "code",
   "execution_count": null,
   "metadata": {},
   "outputs": [],
   "source": [
    "img, mask = dl.__getitem__(0)\n",
    "z = 48\n",
    "# mask[mask == 0] = np.nan\n",
    "\n",
    "fig = plt.figure(figsize=(40,40))\n",
    "plt.imshow(img[:,:,z], cmap='gray')\n",
    "plt.imshow(mask[0,:,:,z],cmap='Reds', alpha=0.5)\n",
    "plt.imshow(mask[1,:,:,z],cmap='Greens', alpha=0.5)\n",
    "# plt.ylim([400,600])"
   ]
  },
  {
   "cell_type": "code",
   "execution_count": null,
   "metadata": {},
   "outputs": [],
   "source": []
  }
 ],
 "metadata": {
  "kernelspec": {
   "display_name": "Python 3.9.12 ('dl')",
   "language": "python",
   "name": "python3"
  },
  "language_info": {
   "codemirror_mode": {
    "name": "ipython",
    "version": 3
   },
   "file_extension": ".py",
   "mimetype": "text/x-python",
   "name": "python",
   "nbconvert_exporter": "python",
   "pygments_lexer": "ipython3",
   "version": "3.9.12"
  },
  "orig_nbformat": 4,
  "vscode": {
   "interpreter": {
    "hash": "c9ccd8639d7ac6d8ae46f08631d02de0d1c9f4a08850208985333be71082afd9"
   }
  }
 },
 "nbformat": 4,
 "nbformat_minor": 2
}
