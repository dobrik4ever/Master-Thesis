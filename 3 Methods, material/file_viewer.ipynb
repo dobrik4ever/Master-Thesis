{
 "cells": [
  {
   "cell_type": "code",
   "execution_count": 19,
   "metadata": {},
   "outputs": [],
   "source": [
    "from skimage import io\n",
    "import os\n",
    "import numpy as np\n",
    "import pandas as pd\n",
    "import matplotlib.pyplot as plt\n",
    "import torch\n",
    "# from Models import U_net3D\n",
    "from skimage.filters import threshold_otsu\n",
    "from skimage.segmentation import clear_border\n",
    "from skimage.measure import label, regionprops\n",
    "from skimage.morphology import closing, square\n",
    "import sklearn\n",
    "from skimage import feature\n",
    "\n"
   ]
  },
  {
   "cell_type": "code",
   "execution_count": null,
   "metadata": {},
   "outputs": [],
   "source": [
    "class Evaluator:\n",
    "\n",
    "    def __init__(self, test_folder, model):\n",
    "        self.test_folder = test_folder\n",
    "        self.model = model\n",
    "\n",
    "eval = Evaluator(folder, model)\n",
    "eval.compute_cell_numbers()\n",
    "eval.compute_misclassified_number()\n",
    "eval.compute_distances()\n"
   ]
  },
  {
   "cell_type": "code",
   "execution_count": 13,
   "metadata": {},
   "outputs": [
    {
     "name": "stdout",
     "output_type": "stream",
     "text": [
      "(3, 500, 500, 100)\n",
      "Num_of_cell = 636\n",
      "N_Macrophages = 315 N_T_Cells = 321\n"
     ]
    }
   ],
   "source": [
    "from skimage import filters, segmentation, measure, morphology\n",
    "import tqdm\n",
    "\n",
    "class CellCounter:\n",
    "\n",
    "    def __init__(self, pdf:torch.tensor, threshold = 0.95) -> None:\n",
    "        self.threshold = threshold\n",
    "        self.Macrophage_pdf = pdf[0]\n",
    "        self.T_Cell_pdf     = pdf[1]\n",
    "        self.Background_pdf = pdf[2]\n",
    "\n",
    "        self.\n",
    "\n",
    "    def label_image(self, pdf):\n",
    "        mask = pdf > self.threshold\n",
    "        cleared = segmentation.clear_border(mask)\n",
    "        label_image = measure.label(cleared)\n",
    "        return label_image\n",
    "\n",
    "    def count_cells_max(self):\n",
    "        cell_pdf = 1 - self.Background_pdf\n",
    "        label_image = self.label_image(cell_pdf)\n",
    "        Num_of_cell = label_image.max()\n",
    "        print(f'{Num_of_cell = }')\n",
    "        cell_coordinates = feature.peak_local_max(cell_pdf, threshold_abs=self.threshold)\n",
    "        # Per class\n",
    "        dicto = {\n",
    "            'name':'Macrophage',\n",
    "            'pdf':self.Macrophage_pdf,\n",
    "            ''        \n",
    "            }\n",
    "        classes = ['Macrophage', 'T_Cell']\n",
    "        N_Macrophages = 0\n",
    "        N_T_Cells = 0\n",
    "        names = []\n",
    "        for i, (y,x,z) in enumerate(cell_coordinates):\n",
    "            p_m = self.Macrophage_pdf[y, x, z]\n",
    "            p_t = self.T_Cell_pdf[y, x, z]\n",
    "\n",
    "            if p_m > p_t: \n",
    "                N_Macrophages += 1\n",
    "                names.append('Macrophage')\n",
    "            else: N_T_Cells += 1\n",
    "\n",
    "        print(f'{N_Macrophages = } {N_T_Cells = }')\n",
    "        return cell_coordinates\n",
    "            \n",
    "\n",
    "            \n",
    "\n",
    "pdfs = []\n",
    "for i in range(3):\n",
    "    a = np.load(f'C:/Users/Sergei/Documents/Test_output/U_net3D_epoch_250-class_{i}.npy')\n",
    "    pdfs.append(a)\n",
    "\n",
    "pdf = np.stack(pdfs)\n",
    "print(pdf.shape)\n",
    "CC = CellCounter(pdf)\n",
    "coordinates = CC.count_cells_max()"
   ]
  },
  {
   "cell_type": "code",
   "execution_count": 18,
   "metadata": {},
   "outputs": [
    {
     "data": {
      "text/html": [
       "<div>\n",
       "<style scoped>\n",
       "    .dataframe tbody tr th:only-of-type {\n",
       "        vertical-align: middle;\n",
       "    }\n",
       "\n",
       "    .dataframe tbody tr th {\n",
       "        vertical-align: top;\n",
       "    }\n",
       "\n",
       "    .dataframe thead th {\n",
       "        text-align: right;\n",
       "    }\n",
       "</style>\n",
       "<table border=\"1\" class=\"dataframe\">\n",
       "  <thead>\n",
       "    <tr style=\"text-align: right;\">\n",
       "      <th></th>\n",
       "      <th>axis-0</th>\n",
       "      <th>axis-1</th>\n",
       "      <th>axis-2</th>\n",
       "      <th>name</th>\n",
       "    </tr>\n",
       "  </thead>\n",
       "  <tbody>\n",
       "    <tr>\n",
       "      <th>0</th>\n",
       "      <td>480</td>\n",
       "      <td>95</td>\n",
       "      <td>79</td>\n",
       "      <td>M</td>\n",
       "    </tr>\n",
       "    <tr>\n",
       "      <th>1</th>\n",
       "      <td>397</td>\n",
       "      <td>187</td>\n",
       "      <td>17</td>\n",
       "      <td>M</td>\n",
       "    </tr>\n",
       "    <tr>\n",
       "      <th>2</th>\n",
       "      <td>316</td>\n",
       "      <td>466</td>\n",
       "      <td>54</td>\n",
       "      <td>M</td>\n",
       "    </tr>\n",
       "    <tr>\n",
       "      <th>3</th>\n",
       "      <td>220</td>\n",
       "      <td>80</td>\n",
       "      <td>65</td>\n",
       "      <td>M</td>\n",
       "    </tr>\n",
       "    <tr>\n",
       "      <th>4</th>\n",
       "      <td>11</td>\n",
       "      <td>194</td>\n",
       "      <td>60</td>\n",
       "      <td>M</td>\n",
       "    </tr>\n",
       "    <tr>\n",
       "      <th>...</th>\n",
       "      <td>...</td>\n",
       "      <td>...</td>\n",
       "      <td>...</td>\n",
       "      <td>...</td>\n",
       "    </tr>\n",
       "    <tr>\n",
       "      <th>631</th>\n",
       "      <td>367</td>\n",
       "      <td>463</td>\n",
       "      <td>13</td>\n",
       "      <td>M</td>\n",
       "    </tr>\n",
       "    <tr>\n",
       "      <th>632</th>\n",
       "      <td>456</td>\n",
       "      <td>177</td>\n",
       "      <td>63</td>\n",
       "      <td>M</td>\n",
       "    </tr>\n",
       "    <tr>\n",
       "      <th>633</th>\n",
       "      <td>467</td>\n",
       "      <td>345</td>\n",
       "      <td>66</td>\n",
       "      <td>M</td>\n",
       "    </tr>\n",
       "    <tr>\n",
       "      <th>634</th>\n",
       "      <td>316</td>\n",
       "      <td>475</td>\n",
       "      <td>29</td>\n",
       "      <td>M</td>\n",
       "    </tr>\n",
       "    <tr>\n",
       "      <th>635</th>\n",
       "      <td>448</td>\n",
       "      <td>275</td>\n",
       "      <td>26</td>\n",
       "      <td>M</td>\n",
       "    </tr>\n",
       "  </tbody>\n",
       "</table>\n",
       "<p>636 rows × 4 columns</p>\n",
       "</div>"
      ],
      "text/plain": [
       "     axis-0  axis-1  axis-2 name\n",
       "0       480      95      79    M\n",
       "1       397     187      17    M\n",
       "2       316     466      54    M\n",
       "3       220      80      65    M\n",
       "4        11     194      60    M\n",
       "..      ...     ...     ...  ...\n",
       "631     367     463      13    M\n",
       "632     456     177      63    M\n",
       "633     467     345      66    M\n",
       "634     316     475      29    M\n",
       "635     448     275      26    M\n",
       "\n",
       "[636 rows x 4 columns]"
      ]
     },
     "execution_count": 18,
     "metadata": {},
     "output_type": "execute_result"
    }
   ],
   "source": [
    "df = pd.DataFrame(coordinates, columns = ['axis-0', 'axis-1', 'axis-2'])\n",
    "df['name'] = ['M' for i in range(636)]\n",
    "df"
   ]
  },
  {
   "cell_type": "code",
   "execution_count": 10,
   "metadata": {},
   "outputs": [
    {
     "name": "stdout",
     "output_type": "stream",
     "text": [
      "636\n"
     ]
    }
   ],
   "source": [
    "coordinates = feature.peak_local_max(1-pdfs[2],threshold_abs=0.95, min_distance=1)\n",
    "print(len(coordinates))"
   ]
  },
  {
   "cell_type": "code",
   "execution_count": 26,
   "metadata": {},
   "outputs": [
    {
     "name": "stdout",
     "output_type": "stream",
     "text": [
      "T_Cell        321\n",
      "Macrophage    315\n",
      "Name: class, dtype: int64\n"
     ]
    },
    {
     "data": {
      "text/plain": [
       "<matplotlib.lines.Line2D at 0x161801c4af0>"
      ]
     },
     "execution_count": 26,
     "metadata": {},
     "output_type": "execute_result"
    },
    {
     "data": {
      "image/png": "[encoded data removed]",
      "text/plain": [
       "<Figure size 640x480 with 1 Axes>"
      ]
     },
     "metadata": {},
     "output_type": "display_data"
    }
   ],
   "source": [
    "threshold = 0.99\n",
    "i = 1\n",
    "pdf = np.load(f'C:/Users/Sergei/Documents/Test_output/U_net3D_epoch_250-class_{i}.npy')\n",
    "# plt.hist(pdf.flatten(), bins=1000)\n",
    "# plt.axvline(threshold, c='r')\n",
    "# plt.yscale('log')\n",
    "# plt.show()\n",
    "from tqdm import tqdm\n",
    "cell_number = np.zeros([100])\n",
    "thres = np.linspace(0.95,1.0,100)\n",
    "pbar = tqdm(total=100)\n",
    "for i, t in enumerate(thres):\n",
    "    pbar.update(1)\n",
    "    CC = CellCounter(threshold=t)\n",
    "    cell_number[i] = CC.count_cells(pdf)\n",
    "\n",
    "pbar.close()\n",
    "df = pd.read_csv('C:/Users/Sergei/Documents/Test_output/stack_0.csv', index_col=0)\n",
    "N = df['class'].value_counts()\n",
    "print(N)\n",
    "\n",
    "plt.plot(thres, cell_number)\n",
    "plt.axhline(321, c='r')\n",
    "\n"
   ]
  },
  {
   "cell_type": "code",
   "execution_count": 17,
   "metadata": {},
   "outputs": [
    {
     "data": {
      "text/plain": [
       "T_Cell        321\n",
       "Macrophage    315\n",
       "Name: class, dtype: int64"
      ]
     },
     "execution_count": 17,
     "metadata": {},
     "output_type": "execute_result"
    }
   ],
   "source": [
    "df = pd.read_csv('data/raw/stack_0.csv', index_col=0)\n",
    "N = df['class'].value_counts()\n",
    "N"
   ]
  }
 ],
 "metadata": {
  "kernelspec": {
   "display_name": "Python 3.9.12 ('dl')",
   "language": "python",
   "name": "python3"
  },
  "language_info": {
   "codemirror_mode": {
    "name": "ipython",
    "version": 3
   },
   "file_extension": ".py",
   "mimetype": "text/x-python",
   "name": "python",
   "nbconvert_exporter": "python",
   "pygments_lexer": "ipython3",
   "version": "3.9.12"
  },
  "orig_nbformat": 4,
  "vscode": {
   "interpreter": {
    "hash": "2d15654ffd517cf8379d4dfba87c697cb69e230fae8d4b60800be26201a70676"
   }
  }
 },
 "nbformat": 4,
 "nbformat_minor": 2
}
